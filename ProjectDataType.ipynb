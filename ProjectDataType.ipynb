{
 "cells": [
  {
   "cell_type": "markdown",
   "metadata": {},
   "source": [
    "# Project Data Type"
   ]
  },
  {
   "cell_type": "markdown",
   "metadata": {},
   "source": [
    "Objectif : trier des données textuelles par type.  \n",
    "Les types possibles sont :  \n",
    "2 : code postal  \n",
    "3 : coordonnées GPS  \n",
    "4 : adresse  \n",
    "5 : numéro SIRET  \n",
    "6 : Année  \n",
    "7 : Date  \n",
    "8 : SIREN  \n",
    "9 : Code NAF/APE  \n",
    "10 : Autre  \n",
    "11 : Téléphone  "
   ]
  },
  {
   "cell_type": "code",
   "execution_count": 47,
   "metadata": {},
   "outputs": [],
   "source": [
    "# Pour manipuler et analyser des données sous formes de tableaux\n",
    "import pandas as pd\n",
    "# Pour importer les fichiers CSV, on utilise glob\n",
    "import glob"
   ]
  },
  {
   "cell_type": "code",
   "execution_count": 48,
   "metadata": {
    "scrolled": true
   },
   "outputs": [
    {
     "name": "stdout",
     "output_type": "stream",
     "text": [
      "<class 'pandas.core.frame.DataFrame'>\n",
      "RangeIndex: 13194 entries, 0 to 13193\n",
      "Data columns (total 29 columns):\n",
      "Dispositif                                                                   13194 non-null object\n",
      "Type de structure                                                            13194 non-null object\n",
      "Année d'agrément                                                             13194 non-null object\n",
      "Localisation                                                                 10167 non-null object\n",
      "Début d'agrément                                                             13194 non-null int64\n",
      "Fin d'agrément                                                               13194 non-null int64\n",
      "Numéro SIREN                                                                 10107 non-null float64\n",
      "Nom de l'entreprise                                                          13194 non-null object\n",
      "Sigle                                                                        4021 non-null object\n",
      "Activité                                                                     12947 non-null object\n",
      "Code postal                                                                  13042 non-null object\n",
      "Ville                                                                        13193 non-null object\n",
      "Téléphone                                                                    0 non-null float64\n",
      "Base SIRENE : Catégorie de l'établissement siège                             9268 non-null object\n",
      "Lien vers la fiche scanR                                                     8170 non-null object\n",
      "Commune                                                                      10167 non-null object\n",
      "Unité urbaine                                                                10167 non-null object\n",
      "Département                                                                  10167 non-null object\n",
      "Académie                                                                     10167 non-null object\n",
      "Région                                                                       10167 non-null object\n",
      "Géolocalisation                                                              13194 non-null object\n",
      "Code commune (France)                                                        10167 non-null object\n",
      "Code de l'unité urbaine (France)                                             10167 non-null object\n",
      "Code du département (France)                                                 10167 non-null object\n",
      "Base SIRENE : Activité principale exercée (APE) par l'établissement siège    9415 non-null object\n",
      "Code de l'académie (France)                                                  10167 non-null object\n",
      "Code de la région (France)                                                   10167 non-null object\n",
      "Pays                                                                         13194 non-null object\n",
      "Base SIRENE : Code APE de l'établissement siège                              9415 non-null object\n",
      "dtypes: float64(2), int64(2), object(25)\n",
      "memory usage: 2.9+ MB\n",
      "---------\n",
      "<class 'pandas.core.frame.DataFrame'>\n",
      "RangeIndex: 2492 entries, 0 to 2491\n",
      "Data columns (total 11 columns):\n",
      "ID                                                    2492 non-null object\n",
      "Date                                                  2492 non-null object\n",
      "Axe                                                   2492 non-null object\n",
      "Départ                                                2492 non-null object\n",
      "Arrivée                                               2492 non-null object\n",
      "Nombre de trains programmés                           2484 non-null float64\n",
      "Nombre de trains ayant circulé                        2483 non-null float64\n",
      "Nombre de trains annulés                              2487 non-null float64\n",
      "Nombre de trains en retard à l'arrivée                2487 non-null float64\n",
      "Taux de régularité                                    2475 non-null float64\n",
      "Nombre de trains à l'heure pour un train en retard    2408 non-null float64\n",
      "dtypes: float64(6), object(5)\n",
      "memory usage: 214.2+ KB\n",
      "---------\n",
      "<class 'pandas.core.frame.DataFrame'>\n",
      "RangeIndex: 12811 entries, 0 to 12810\n",
      "Columns: 118 entries, SIREN to TEL\n",
      "dtypes: float64(43), int64(14), object(61)\n",
      "memory usage: 11.5+ MB\n",
      "---------\n",
      "<class 'pandas.core.frame.DataFrame'>\n",
      "RangeIndex: 207895 entries, 0 to 207894\n",
      "Data columns (total 8 columns):\n",
      "Type d'axe           207895 non-null object\n",
      "Axe                  207895 non-null object\n",
      "latitude (WGS84)     207895 non-null float64\n",
      "longitude (WGS84)    207895 non-null float64\n",
      "Opérateur            202272 non-null object\n",
      "Technologie          207895 non-null object\n",
      "Chargement < 10s     207895 non-null float64\n",
      "coord                207895 non-null object\n",
      "dtypes: float64(3), object(5)\n",
      "memory usage: 12.7+ MB\n",
      "---------\n",
      "<class 'pandas.core.frame.DataFrame'>\n",
      "RangeIndex: 24923 entries, 0 to 24922\n",
      "Data columns (total 8 columns):\n",
      "JOUR               24923 non-null object\n",
      "CODE_STIF_TRNS     24923 non-null int64\n",
      "CODE_STIF_RES      24923 non-null int64\n",
      "CODE_STIF_LIGNE    24923 non-null int64\n",
      "LIBELLE_LIGNE      24923 non-null object\n",
      "ID_GROUPOFLINES    24923 non-null object\n",
      "CATEGORIE_TITRE    24923 non-null object\n",
      "NB_VALD            24923 non-null object\n",
      "dtypes: int64(3), object(5)\n",
      "memory usage: 1.5+ MB\n",
      "---------\n"
     ]
    }
   ],
   "source": [
    "# On récupère tous les CSV situés dans le répertoire \"./data\" du Jupyter notebook\n",
    "files = glob.glob(\"./data/*.csv\")\n",
    "\n",
    "# On visualise les colonnes du jeu de données pour voir un peu la tête que ça a\n",
    "for file in files:\n",
    "    df = pd.read_csv(file, sep=\";\")\n",
    "    df.info()\n",
    "    # Séparateur pour mieux visualiser les changements de CSV\n",
    "    print(\"---------\")"
   ]
  },
  {
   "cell_type": "code",
   "execution_count": 52,
   "metadata": {},
   "outputs": [
    {
     "data": {
      "text/html": [
       "<div>\n",
       "<style scoped>\n",
       "    .dataframe tbody tr th:only-of-type {\n",
       "        vertical-align: middle;\n",
       "    }\n",
       "\n",
       "    .dataframe tbody tr th {\n",
       "        vertical-align: top;\n",
       "    }\n",
       "\n",
       "    .dataframe thead th {\n",
       "        text-align: right;\n",
       "    }\n",
       "</style>\n",
       "<table border=\"1\" class=\"dataframe\">\n",
       "  <thead>\n",
       "    <tr style=\"text-align: right;\">\n",
       "      <th></th>\n",
       "      <th>ID</th>\n",
       "      <th>Date</th>\n",
       "      <th>Axe</th>\n",
       "      <th>Départ</th>\n",
       "      <th>Arrivée</th>\n",
       "      <th>Nombre de trains programmés</th>\n",
       "      <th>Nombre de trains ayant circulé</th>\n",
       "      <th>Nombre de trains annulés</th>\n",
       "      <th>Nombre de trains en retard à l'arrivée</th>\n",
       "      <th>Taux de régularité</th>\n",
       "      <th>Nombre de trains à l'heure pour un train en retard</th>\n",
       "    </tr>\n",
       "  </thead>\n",
       "  <tbody>\n",
       "    <tr>\n",
       "      <th>390</th>\n",
       "      <td>INT_3_A</td>\n",
       "      <td>2014-03</td>\n",
       "      <td>Est Centre</td>\n",
       "      <td>BÉZIERS</td>\n",
       "      <td>CLERMONT FERRAND</td>\n",
       "      <td>31.0</td>\n",
       "      <td>31.0</td>\n",
       "      <td>0.0</td>\n",
       "      <td>0.0</td>\n",
       "      <td>100.0</td>\n",
       "      <td>NaN</td>\n",
       "    </tr>\n",
       "    <tr>\n",
       "      <th>2032</th>\n",
       "      <td>INT_23_A</td>\n",
       "      <td>2017-01</td>\n",
       "      <td>Est Centre</td>\n",
       "      <td>PARIS EST</td>\n",
       "      <td>TROYES</td>\n",
       "      <td>216.0</td>\n",
       "      <td>214.0</td>\n",
       "      <td>2.0</td>\n",
       "      <td>36.0</td>\n",
       "      <td>83.2</td>\n",
       "      <td>4.9</td>\n",
       "    </tr>\n",
       "    <tr>\n",
       "      <th>343</th>\n",
       "      <td>INT_9_A</td>\n",
       "      <td>2014-02</td>\n",
       "      <td>Nord-Normandie</td>\n",
       "      <td>CAEN</td>\n",
       "      <td>PARIS ST LAZARE</td>\n",
       "      <td>176.0</td>\n",
       "      <td>176.0</td>\n",
       "      <td>0.0</td>\n",
       "      <td>15.0</td>\n",
       "      <td>91.5</td>\n",
       "      <td>10.7</td>\n",
       "    </tr>\n",
       "    <tr>\n",
       "      <th>1703</th>\n",
       "      <td>INT_23_B</td>\n",
       "      <td>2017-07</td>\n",
       "      <td>Est Centre</td>\n",
       "      <td>TROYES</td>\n",
       "      <td>PARIS EST</td>\n",
       "      <td>238.0</td>\n",
       "      <td>235.0</td>\n",
       "      <td>3.0</td>\n",
       "      <td>29.0</td>\n",
       "      <td>87.7</td>\n",
       "      <td>7.1</td>\n",
       "    </tr>\n",
       "    <tr>\n",
       "      <th>387</th>\n",
       "      <td>INT_20_B</td>\n",
       "      <td>2014-02</td>\n",
       "      <td>Est Centre</td>\n",
       "      <td>PARIS BERCY</td>\n",
       "      <td>NEVERS</td>\n",
       "      <td>135.0</td>\n",
       "      <td>134.0</td>\n",
       "      <td>1.0</td>\n",
       "      <td>18.0</td>\n",
       "      <td>86.6</td>\n",
       "      <td>6.4</td>\n",
       "    </tr>\n",
       "  </tbody>\n",
       "</table>\n",
       "</div>"
      ],
      "text/plain": [
       "            ID     Date             Axe       Départ           Arrivée  \\\n",
       "390    INT_3_A  2014-03      Est Centre      BÉZIERS  CLERMONT FERRAND   \n",
       "2032  INT_23_A  2017-01      Est Centre    PARIS EST            TROYES   \n",
       "343    INT_9_A  2014-02  Nord-Normandie         CAEN   PARIS ST LAZARE   \n",
       "1703  INT_23_B  2017-07      Est Centre       TROYES         PARIS EST   \n",
       "387   INT_20_B  2014-02      Est Centre  PARIS BERCY            NEVERS   \n",
       "\n",
       "      Nombre de trains programmés  Nombre de trains ayant circulé  \\\n",
       "390                          31.0                            31.0   \n",
       "2032                        216.0                           214.0   \n",
       "343                         176.0                           176.0   \n",
       "1703                        238.0                           235.0   \n",
       "387                         135.0                           134.0   \n",
       "\n",
       "      Nombre de trains annulés  Nombre de trains en retard à l'arrivée  \\\n",
       "390                        0.0                                     0.0   \n",
       "2032                       2.0                                    36.0   \n",
       "343                        0.0                                    15.0   \n",
       "1703                       3.0                                    29.0   \n",
       "387                        1.0                                    18.0   \n",
       "\n",
       "      Taux de régularité  Nombre de trains à l'heure pour un train en retard  \n",
       "390                100.0                                                NaN   \n",
       "2032                83.2                                                4.9   \n",
       "343                 91.5                                               10.7   \n",
       "1703                87.7                                                7.1   \n",
       "387                 86.6                                                6.4   "
      ]
     },
     "execution_count": 52,
     "metadata": {},
     "output_type": "execute_result"
    }
   ],
   "source": [
    "# Ici, je vérifie manuellement de quel type semble être la donnée (exemple ici pour le CSV 2)\n",
    "df = pd.read_csv(files[1], sep=\";\")\n",
    "df.sample(5)"
   ]
  },
  {
   "cell_type": "markdown",
   "metadata": {},
   "source": [
    "Dans cet exemple, je ne suis intéressé que par la colone date globalement"
   ]
  },
  {
   "cell_type": "code",
   "execution_count": 43,
   "metadata": {},
   "outputs": [],
   "source": [
    "# On crée un pseudo-switch qui permet de connaître le type de la donnée en fonction du nom de la colonne du CSV\n",
    "# Je procède via un grand nombre de \"elif\" car il n'y a pas de switch/case en Python\n",
    "# Et que je galère pas mal avec les dictionnaires par manque d'habitude\n",
    "def returnType(colName):\n",
    "    # Code postaux\n",
    "    if colName in [\"Code commune (France)\"]:\n",
    "        return 2\n",
    "    # Coordonnées GPS\n",
    "    elif colName in [\"Géolocalisation\", \"coord\"]:\n",
    "        return 3\n",
    "    # Adresses\n",
    "    elif colName in [\"L4_NORMALISEE\", \"L6_NORMALISEE\"]:\n",
    "        return 4\n",
    "    # Numéros SIRET\n",
    "    elif colName in [\"SIRETPS\"]:\n",
    "        return 5\n",
    "    # Années\n",
    "    elif colName in [\"Début d'agrément\", \"Fin d'agrément\"]:\n",
    "        return 6\n",
    "    # Dates\n",
    "    elif colName in [\"Date\", \"JOUR\"]:\n",
    "        return 7\n",
    "    # Numéros SIREN\n",
    "    elif colName in [\"Numéro SIREN\", \"SIREN\"]:\n",
    "        return 8\n",
    "    # Codes NAF/APE\n",
    "    elif colName in [\"Base SIRENE : Code APE de l'établissement siège\"]:\n",
    "        return 9\n",
    "    # Téléphones\n",
    "    elif colName in [\"TEL\", \"Téléphone\"]:\n",
    "        return 11\n",
    "    # Defaut\n",
    "    else:\n",
    "        return 0"
   ]
  },
  {
   "cell_type": "code",
   "execution_count": 123,
   "metadata": {},
   "outputs": [
    {
     "name": "stdout",
     "output_type": "stream",
     "text": [
      "iterating on file ./data\\fr-esr-cir-et-cii-organismes-et-bureaux-de-style-agrees.csv\n",
      "processing column Début d'agrément\n",
      "processing column Fin d'agrément\n",
      "processing column Numéro SIREN\n",
      "processing column Téléphone\n",
      "processing column Géolocalisation\n",
      "processing column Code commune (France)\n",
      "processing column Base SIRENE : Code APE de l'établissement siège\n",
      "iterating on file ./data\\regularite-mensuelle-intercites.csv\n",
      "processing column Date\n",
      "iterating on file ./data\\sirc-17804_9075_61171_2018102_E_Q_20180413_015943916.csv\n",
      "processing column SIREN\n",
      "processing column L4_NORMALISEE\n",
      "processing column SIRETPS\n",
      "processing column TEL\n",
      "iterating on file ./data\\telecom_qualite_services_mobiles_07-2016.csv\n",
      "processing column coord\n",
      "iterating on file ./data\\validations-sur-le-reseau-de-surface-nombre-de-validations-par-jour-1er-semestr0.csv\n",
      "processing column JOUR\n"
     ]
    }
   ],
   "source": [
    "# On crée une liste temporaire destinée à recevoir les contenus\n",
    "tempList = []\n",
    "\n",
    "# Pour chaque CSV, on crée une DataFrame\n",
    "for file in files:\n",
    "    print(\"iterating on file \" + file)\n",
    "    df = pd.read_csv(file, sep=\";\")\n",
    "    # Pour chaque colonne du DataFrame actuellement parcouru\n",
    "    for col in df.columns:\n",
    "        # On check si la colonne renvoi un type attendu (ou 0 par défaut)\n",
    "        if returnType(col) != 0:\n",
    "            print(\"processing column \" + col)\n",
    "            # Si le type est attendu, on va récupérer tout le contenu de la colonne ainsi que l'indice de type correspondant\n",
    "            indice = returnType(col)\n",
    "            valeurs = df[col].tolist()\n",
    "            # Pour chaque valeur, on va imprimer dans la liste temporaire [indice, valeur]\n",
    "            for valeur in valeurs:\n",
    "                tempList.append([indice, str(valeur)])\n",
    "\n",
    "# Lorsque tous les CSV sont traités, on transforme la liste temporaire en DataFrame\n",
    "dfsum = pd.DataFrame(tempList, columns=[\"y\", \"X\"])"
   ]
  },
  {
   "cell_type": "code",
   "execution_count": 124,
   "metadata": {},
   "outputs": [
    {
     "data": {
      "text/html": [
       "<div>\n",
       "<style scoped>\n",
       "    .dataframe tbody tr th:only-of-type {\n",
       "        vertical-align: middle;\n",
       "    }\n",
       "\n",
       "    .dataframe tbody tr th {\n",
       "        vertical-align: top;\n",
       "    }\n",
       "\n",
       "    .dataframe thead th {\n",
       "        text-align: right;\n",
       "    }\n",
       "</style>\n",
       "<table border=\"1\" class=\"dataframe\">\n",
       "  <thead>\n",
       "    <tr style=\"text-align: right;\">\n",
       "      <th></th>\n",
       "      <th>y</th>\n",
       "      <th>X</th>\n",
       "    </tr>\n",
       "  </thead>\n",
       "  <tbody>\n",
       "    <tr>\n",
       "      <th>199527</th>\n",
       "      <td>3</td>\n",
       "      <td>44.49918, -0.02585</td>\n",
       "    </tr>\n",
       "    <tr>\n",
       "      <th>228075</th>\n",
       "      <td>3</td>\n",
       "      <td>46.28793, 4.80895</td>\n",
       "    </tr>\n",
       "    <tr>\n",
       "      <th>72083</th>\n",
       "      <td>2</td>\n",
       "      <td>41159</td>\n",
       "    </tr>\n",
       "    <tr>\n",
       "      <th>85150</th>\n",
       "      <td>9</td>\n",
       "      <td>7022Z</td>\n",
       "    </tr>\n",
       "    <tr>\n",
       "      <th>45510</th>\n",
       "      <td>11</td>\n",
       "      <td>nan</td>\n",
       "    </tr>\n",
       "    <tr>\n",
       "      <th>150604</th>\n",
       "      <td>3</td>\n",
       "      <td>48.97413, 3.21846</td>\n",
       "    </tr>\n",
       "    <tr>\n",
       "      <th>196281</th>\n",
       "      <td>3</td>\n",
       "      <td>49.25912, 2.68614</td>\n",
       "    </tr>\n",
       "    <tr>\n",
       "      <th>271148</th>\n",
       "      <td>3</td>\n",
       "      <td>43.1875, 2.4784</td>\n",
       "    </tr>\n",
       "    <tr>\n",
       "      <th>24462</th>\n",
       "      <td>6</td>\n",
       "      <td>2017</td>\n",
       "    </tr>\n",
       "    <tr>\n",
       "      <th>107865</th>\n",
       "      <td>4</td>\n",
       "      <td>261 RUE DE PARIS</td>\n",
       "    </tr>\n",
       "    <tr>\n",
       "      <th>149846</th>\n",
       "      <td>3</td>\n",
       "      <td>48.8772191304, 2.2941626087</td>\n",
       "    </tr>\n",
       "    <tr>\n",
       "      <th>202546</th>\n",
       "      <td>3</td>\n",
       "      <td>48.60034, 2.43956</td>\n",
       "    </tr>\n",
       "    <tr>\n",
       "      <th>217739</th>\n",
       "      <td>3</td>\n",
       "      <td>48.88851333, 2.303657778</td>\n",
       "    </tr>\n",
       "    <tr>\n",
       "      <th>17208</th>\n",
       "      <td>6</td>\n",
       "      <td>2018</td>\n",
       "    </tr>\n",
       "    <tr>\n",
       "      <th>110064</th>\n",
       "      <td>4</td>\n",
       "      <td>561 CHEMIN DE BROSSARD</td>\n",
       "    </tr>\n",
       "  </tbody>\n",
       "</table>\n",
       "</div>"
      ],
      "text/plain": [
       "         y                            X\n",
       "199527   3           44.49918, -0.02585\n",
       "228075   3            46.28793, 4.80895\n",
       "72083    2                        41159\n",
       "85150    9                        7022Z\n",
       "45510   11                          nan\n",
       "150604   3            48.97413, 3.21846\n",
       "196281   3            49.25912, 2.68614\n",
       "271148   3              43.1875, 2.4784\n",
       "24462    6                         2017\n",
       "107865   4             261 RUE DE PARIS\n",
       "149846   3  48.8772191304, 2.2941626087\n",
       "202546   3            48.60034, 2.43956\n",
       "217739   3     48.88851333, 2.303657778\n",
       "17208    6                         2018\n",
       "110064   4       561 CHEMIN DE BROSSARD"
      ]
     },
     "execution_count": 124,
     "metadata": {},
     "output_type": "execute_result"
    }
   ],
   "source": [
    "# On affiche le contenu d'une 15aine de lignes, on doit voir un peu de tout (dates, coordonnées GPS, adresses, etc)\n",
    "dfsum.sample(15)"
   ]
  },
  {
   "cell_type": "markdown",
   "metadata": {},
   "source": [
    "A partir de maintenant, je vais utiliser ce dfsum (le DataFrame qui contient la somme traitée de mes CSV) pour entrainer mon machine learning.\n",
    "Pour des raisons de simplicité je renomme mon dfsum en df."
   ]
  },
  {
   "cell_type": "code",
   "execution_count": 125,
   "metadata": {},
   "outputs": [],
   "source": [
    "df = dfsum"
   ]
  },
  {
   "cell_type": "markdown",
   "metadata": {},
   "source": [
    "## C'est parti pour le machine learning"
   ]
  },
  {
   "cell_type": "code",
   "execution_count": 126,
   "metadata": {},
   "outputs": [],
   "source": [
    "# On importe une fonction qui convertit des contenus de documents texte en une matrice de comptage de mots/caractères\n",
    "from sklearn.feature_extraction.text import CountVectorizer"
   ]
  },
  {
   "cell_type": "code",
   "execution_count": 127,
   "metadata": {},
   "outputs": [],
   "source": [
    "# On détermine qu'un token (fragment de mot) fais la taille d'un mot (à partir de 2 caractères)\n",
    "vectorizer = CountVectorizer(\n",
    "    input=\"content\",\n",
    "    analyzer=\"word\",\n",
    "    strip_accents=None,\n",
    "    stop_words=None,\n",
    "    binary=True,\n",
    "    ngram_range=(1,2)\n",
    ")"
   ]
  },
  {
   "cell_type": "code",
   "execution_count": 128,
   "metadata": {},
   "outputs": [],
   "source": [
    "# On tokenize (on \"distingue\" les mots/caractères de la donnée)\n",
    "tokenizer = vectorizer.build_tokenizer()"
   ]
  },
  {
   "cell_type": "code",
   "execution_count": 129,
   "metadata": {},
   "outputs": [],
   "source": [
    "# On analyse (on distingue des suites de n mots/caractères)\n",
    "analyzer = vectorizer.build_analyzer()"
   ]
  },
  {
   "cell_type": "code",
   "execution_count": 130,
   "metadata": {},
   "outputs": [],
   "source": [
    "# On importe une fonction qui segmente les données en jeux d'entrainement et de tests)\n",
    "from sklearn.model_selection import train_test_split"
   ]
  },
  {
   "cell_type": "code",
   "execution_count": 131,
   "metadata": {},
   "outputs": [],
   "source": [
    "X = df['X']\n",
    "y = df['y']\n",
    "\n",
    "# A l'aide de train_test_split, on va éclater le jeu de données en données d'entrainement (70%) et de test (le reste)\n",
    "X_train, X_test, Y_train, Y_test = train_test_split(\n",
    "    X,\n",
    "    y,\n",
    "    train_size = 0.7\n",
    ")"
   ]
  },
  {
   "cell_type": "code",
   "execution_count": 132,
   "metadata": {},
   "outputs": [
    {
     "data": {
      "text/html": [
       "<div>\n",
       "<style scoped>\n",
       "    .dataframe tbody tr th:only-of-type {\n",
       "        vertical-align: middle;\n",
       "    }\n",
       "\n",
       "    .dataframe tbody tr th {\n",
       "        vertical-align: top;\n",
       "    }\n",
       "\n",
       "    .dataframe thead th {\n",
       "        text-align: right;\n",
       "    }\n",
       "</style>\n",
       "<table border=\"1\" class=\"dataframe\">\n",
       "  <thead>\n",
       "    <tr style=\"text-align: right;\">\n",
       "      <th></th>\n",
       "      <th>y</th>\n",
       "      <th>X</th>\n",
       "    </tr>\n",
       "  </thead>\n",
       "  <tbody>\n",
       "    <tr>\n",
       "      <th>0</th>\n",
       "      <td>6</td>\n",
       "      <td>2012</td>\n",
       "    </tr>\n",
       "    <tr>\n",
       "      <th>1</th>\n",
       "      <td>6</td>\n",
       "      <td>2012</td>\n",
       "    </tr>\n",
       "    <tr>\n",
       "      <th>2</th>\n",
       "      <td>6</td>\n",
       "      <td>2012</td>\n",
       "    </tr>\n",
       "    <tr>\n",
       "      <th>3</th>\n",
       "      <td>6</td>\n",
       "      <td>2012</td>\n",
       "    </tr>\n",
       "    <tr>\n",
       "      <th>4</th>\n",
       "      <td>6</td>\n",
       "      <td>2012</td>\n",
       "    </tr>\n",
       "  </tbody>\n",
       "</table>\n",
       "</div>"
      ],
      "text/plain": [
       "   y     X\n",
       "0  6  2012\n",
       "1  6  2012\n",
       "2  6  2012\n",
       "3  6  2012\n",
       "4  6  2012"
      ]
     },
     "execution_count": 132,
     "metadata": {},
     "output_type": "execute_result"
    }
   ],
   "source": [
    "# On jette un oeil au format des données d'entrainement de X\n",
    "df.head()"
   ]
  },
  {
   "cell_type": "code",
   "execution_count": 133,
   "metadata": {},
   "outputs": [],
   "source": [
    "# On importe une fonction qui applique des transformations aux données afin d'obtenir une évaluation finale\n",
    "from sklearn.pipeline import Pipeline\n",
    "# On importe un classifieur pour les modèles Multinomiaux\n",
    "from sklearn.naive_bayes import MultinomialNB"
   ]
  },
  {
   "cell_type": "code",
   "execution_count": 134,
   "metadata": {},
   "outputs": [],
   "source": [
    "# On crée un pipeline de traitement, puis on vectorise les données textuelles et enfin on les classifie\n",
    "classifier = MultinomialNB()\n",
    "pipeline = Pipeline(\n",
    "    [\n",
    "        (\"vectorizer\", vectorizer),\n",
    "        (\"classifier\", classifier)\n",
    "    ]\n",
    ")"
   ]
  },
  {
   "cell_type": "code",
   "execution_count": 135,
   "metadata": {},
   "outputs": [
    {
     "name": "stdout",
     "output_type": "stream",
     "text": [
      "fit done\n"
     ]
    }
   ],
   "source": [
    "# On entraine le classifier sur les données d'entrainement\n",
    "pipeline.fit(X_train.values, Y_train.values)\n",
    "# Comme ça peut prendre un petit moment, on imprime un \"fit done\" à la fin pour avertir de l'arrêt du traitement\n",
    "print(\"fit done\")"
   ]
  },
  {
   "cell_type": "code",
   "execution_count": 137,
   "metadata": {},
   "outputs": [],
   "source": [
    "# On utilise le pipeline entrainé sur les données de test\n",
    "Y_predicted = pipeline.predict(X_test)"
   ]
  },
  {
   "cell_type": "code",
   "execution_count": 138,
   "metadata": {},
   "outputs": [
    {
     "data": {
      "text/plain": [
       "array([9, 3, 3, 9, 3, 4, 3, 3, 3], dtype=int64)"
      ]
     },
     "execution_count": 138,
     "metadata": {},
     "output_type": "execute_result"
    }
   ],
   "source": [
    "# On regarde les résultats des 10 premières lignes\n",
    "Y_predicted[1:10]"
   ]
  },
  {
   "cell_type": "code",
   "execution_count": 140,
   "metadata": {},
   "outputs": [
    {
     "name": "stdout",
     "output_type": "stream",
     "text": [
      "score f1 0.8625543220085508\n"
     ]
    }
   ],
   "source": [
    "# On importe une fonction qui calcule le f1_score (le rapport entre la précision et le rappel)\n",
    "from sklearn.metrics import f1_score\n",
    "# On calcule le f1_score pour toutes les prédictions effectuées\n",
    "score = f1_score(\n",
    "    Y_test,\n",
    "    Y_predicted,\n",
    "    average=\"micro\"\n",
    ")\n",
    "print(\"score f1\", score)"
   ]
  },
  {
   "cell_type": "markdown",
   "metadata": {},
   "source": [
    "Le score f1 du jeu d'entraînement est de 0.8625 soit 86.25% de réussite"
   ]
  },
  {
   "cell_type": "code",
   "execution_count": 143,
   "metadata": {},
   "outputs": [
    {
     "name": "stdout",
     "output_type": "stream",
     "text": [
      "score f1 0.8808202444596928\n"
     ]
    }
   ],
   "source": [
    "# Maintenant on va tester la même chose sur les données qui sont réellement à évaluer (les données de test)\n",
    "Y_predicted = pipeline.predict(X_train)\n",
    "# Calcul du score f1\n",
    "score = f1_score(\n",
    "    Y_train,\n",
    "    Y_predicted,\n",
    "    average=\"micro\"\n",
    ")\n",
    "print(\"score f1\", score)"
   ]
  },
  {
   "cell_type": "markdown",
   "metadata": {},
   "source": [
    "Le score f1 du jeu de test est de 0.8808 soit 88.08% de réussite"
   ]
  },
  {
   "cell_type": "code",
   "execution_count": null,
   "metadata": {},
   "outputs": [],
   "source": [
    "# Pour s'amuser un peu (et pour voir si les données soumises sont correctement évaluées accessoirement)\n",
    "# on va permettre de tester directement dans le notebook via un input\n",
    "dataToTest = input(\"Insert data to test\")\n",
    "# On \"cast\" les data à tester en Array via [] car predict attend un iterable\n",
    "dataType = pipeline.predict([dataToTest])\n",
    "# On crée un dictionnaire de données pour avoir la correspondance indice/type de donnée\n",
    "typeDict = {\n",
    "    2 : \"code postal\",\n",
    "    3 : \"coordonnées GPS\",\n",
    "    4 : \"adresse\",\n",
    "    5 : \"numéro SIRET\",\n",
    "    6 : \"Année\",\n",
    "    7 : \"Date\",\n",
    "    8 : \"SIREN\",\n",
    "    9 : \"Code NAF/APE\",\n",
    "    10 : \"Autre\",\n",
    "    11 : \"Téléphone\"\n",
    "}\n",
    "print(\"Data type is : \" + typeDict.get(int(dataType)))"
   ]
  },
  {
   "cell_type": "code",
   "execution_count": null,
   "metadata": {},
   "outputs": [],
   "source": []
  }
 ],
 "metadata": {
  "kernelspec": {
   "display_name": "Python 3",
   "language": "python",
   "name": "python3"
  },
  "language_info": {
   "codemirror_mode": {
    "name": "ipython",
    "version": 3
   },
   "file_extension": ".py",
   "mimetype": "text/x-python",
   "name": "python",
   "nbconvert_exporter": "python",
   "pygments_lexer": "ipython3",
   "version": "3.7.1"
  }
 },
 "nbformat": 4,
 "nbformat_minor": 2
}
