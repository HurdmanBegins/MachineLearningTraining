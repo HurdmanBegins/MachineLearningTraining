{
 "cells": [
  {
   "cell_type": "markdown",
   "metadata": {},
   "source": [
    "# Initiation au Machine Learning"
   ]
  },
  {
   "cell_type": "code",
   "execution_count": 1,
   "metadata": {},
   "outputs": [],
   "source": [
    "import pandas as pd"
   ]
  },
  {
   "cell_type": "markdown",
   "metadata": {},
   "source": [
    "## Importation des données"
   ]
  },
  {
   "cell_type": "code",
   "execution_count": 6,
   "metadata": {},
   "outputs": [],
   "source": [
    "# Vecteur qui contiendra toutes les entrées issues de Wikipédia\n",
    "X = []\n",
    "# Vecteur qui contiendra la langue de sortie des entrées correspondantes\n",
    "Y = []\n",
    "\n",
    "# On va importer les données (contenues dans des fichiers textes)\n",
    "with open(\"data1.txt\", encoding=\"utf-8\") as f1, open(\"data2.txt\", encoding=\"utf-8\") as f2, open(\"data3.txt\", encoding=\"utf-8\") as f3:\n",
    "    for line in f1:\n",
    "        y = line[0]\n",
    "        x = line[2:]\n",
    "        X.append(x)\n",
    "        Y.append(y)\n",
    "    for line in f2:\n",
    "        y = line[0]\n",
    "        x = line[2:]\n",
    "        X.append(x)\n",
    "        Y.append(y)\n",
    "    for line in f3:\n",
    "        y = line[0]\n",
    "        x = line[2:]\n",
    "        X.append(x)\n",
    "        Y.append(y)\n",
    "        \n",
    "X = pd.DataFrame(X)\n",
    "Y = pd.DataFrame(Y)"
   ]
  },
  {
   "cell_type": "markdown",
   "metadata": {},
   "source": [
    "## Vectoriser les entrées\n",
    "Le but est de passer d'un texte d'une longueur arbitraire à un vecteur à n_dimensions N_features"
   ]
  },
  {
   "cell_type": "code",
   "execution_count": 23,
   "metadata": {},
   "outputs": [],
   "source": [
    "# On importe une fonction qui convertit des contenus de documents texte en une matrice de comptage de mots\n",
    "from sklearn.feature_extraction.text import CountVectorizer"
   ]
  },
  {
   "cell_type": "code",
   "execution_count": 24,
   "metadata": {},
   "outputs": [],
   "source": [
    "# On détermine qu'un token (fragment de mot) fais la taille d'un mot (à partir de 2 caractères)\n",
    "vectorizer = CountVectorizer(\n",
    "    input=\"content\",\n",
    "    analyzer=\"word\",\n",
    "    strip_accents=None,\n",
    "    stop_words=None,\n",
    "    binary=True,\n",
    "    ngram_range=(1,2)\n",
    ")"
   ]
  },
  {
   "cell_type": "code",
   "execution_count": 25,
   "metadata": {},
   "outputs": [
    {
     "data": {
      "text/plain": [
       "['salut', 'le', 'monde', 'ça', 'va']"
      ]
     },
     "execution_count": 25,
     "metadata": {},
     "output_type": "execute_result"
    }
   ],
   "source": [
    "# On tokenize (on \"distingue\" les mots de la phrase)\n",
    "tokenizer = vectorizer.build_tokenizer()\n",
    "tokenizer(\"salut le monde, ça va ?\")"
   ]
  },
  {
   "cell_type": "code",
   "execution_count": 26,
   "metadata": {},
   "outputs": [
    {
     "data": {
      "text/plain": [
       "['salut',\n",
       " 'le',\n",
       " 'monde',\n",
       " 'ça',\n",
       " 'va',\n",
       " 'salut le',\n",
       " 'le monde',\n",
       " 'monde ça',\n",
       " 'ça va']"
      ]
     },
     "execution_count": 26,
     "metadata": {},
     "output_type": "execute_result"
    }
   ],
   "source": [
    "# On analyse (on distingue des suites de n mots)\n",
    "analyzer = vectorizer.build_analyzer()\n",
    "analyzer(\"salut le monde, ça va ?\")"
   ]
  },
  {
   "cell_type": "code",
   "execution_count": 27,
   "metadata": {},
   "outputs": [],
   "source": [
    "# On importe une fonction qui segmente les données en jeux d'entrainement et de tests)\n",
    "from sklearn.model_selection import train_test_split"
   ]
  },
  {
   "cell_type": "code",
   "execution_count": 28,
   "metadata": {},
   "outputs": [],
   "source": [
    "X_train, X_test, Y_train, Y_test = train_test_split(\n",
    "    X,\n",
    "    Y,\n",
    "    train_size=0.7\n",
    ")"
   ]
  },
  {
   "cell_type": "code",
   "execution_count": 30,
   "metadata": {},
   "outputs": [
    {
     "name": "stdout",
     "output_type": "stream",
     "text": [
      "<class 'pandas.core.frame.DataFrame'>\n",
      "Int64Index: 9040 entries, 9471 to 10878\n",
      "Data columns (total 1 columns):\n",
      "0    9040 non-null object\n",
      "dtypes: object(1)\n",
      "memory usage: 141.2+ KB\n"
     ]
    }
   ],
   "source": [
    "# On jette un oeil au format des données d'entrainement de X\n",
    "X_train.info()"
   ]
  },
  {
   "cell_type": "code",
   "execution_count": 31,
   "metadata": {},
   "outputs": [
    {
     "name": "stdout",
     "output_type": "stream",
     "text": [
      "<class 'pandas.core.frame.DataFrame'>\n",
      "Int64Index: 3875 entries, 8390 to 3947\n",
      "Data columns (total 1 columns):\n",
      "0    3875 non-null object\n",
      "dtypes: object(1)\n",
      "memory usage: 60.5+ KB\n"
     ]
    }
   ],
   "source": [
    "# Même chose pour les données de test\n",
    "X_test.info()"
   ]
  },
  {
   "cell_type": "code",
   "execution_count": 32,
   "metadata": {},
   "outputs": [],
   "source": [
    "# On importe une fonction qui applique des transformations aux données afin d'obtenir une évaluation finale\n",
    "from sklearn.pipeline import Pipeline\n",
    "# On importe un classifieur pour les modèles Multinomiaux\n",
    "from sklearn.naive_bayes import MultinomialNB"
   ]
  },
  {
   "cell_type": "code",
   "execution_count": 34,
   "metadata": {},
   "outputs": [],
   "source": [
    "# On crée un pipeline de traitement, puis on vectorise les données textuelles et enfin on les classifie\n",
    "classifier = MultinomialNB()\n",
    "pipeline = Pipeline(\n",
    "    [\n",
    "        (\"vectorizer\", vectorizer),\n",
    "        (\"classifier\", classifier)\n",
    "    ]\n",
    ")"
   ]
  },
  {
   "cell_type": "code",
   "execution_count": 35,
   "metadata": {},
   "outputs": [
    {
     "name": "stderr",
     "output_type": "stream",
     "text": [
      "C:\\Users\\Xepyon\\Anaconda3\\lib\\site-packages\\sklearn\\utils\\validation.py:761: DataConversionWarning: A column-vector y was passed when a 1d array was expected. Please change the shape of y to (n_samples, ), for example using ravel().\n",
      "  y = column_or_1d(y, warn=True)\n"
     ]
    },
    {
     "name": "stdout",
     "output_type": "stream",
     "text": [
      "fit done\n"
     ]
    }
   ],
   "source": [
    "# On entraine le classifier sur les données d'entrainement\n",
    "pipeline.fit(X_train[0], Y_train)\n",
    "print(\"fit done\")"
   ]
  },
  {
   "cell_type": "code",
   "execution_count": 36,
   "metadata": {},
   "outputs": [],
   "source": [
    "# On utilise le pipeline entrainé sur les données de test\n",
    "Y_predicted = pipeline.predict(X_test[0])"
   ]
  },
  {
   "cell_type": "code",
   "execution_count": 41,
   "metadata": {},
   "outputs": [
    {
     "data": {
      "text/plain": [
       "array(['0', '1', '0', '0', '1', '1', '0', '1', '0'], dtype='<U1')"
      ]
     },
     "execution_count": 41,
     "metadata": {},
     "output_type": "execute_result"
    }
   ],
   "source": [
    "# On regarde les résultats des 10 premières lignes\n",
    "Y_predicted[1:10]"
   ]
  },
  {
   "cell_type": "code",
   "execution_count": 43,
   "metadata": {},
   "outputs": [
    {
     "name": "stdout",
     "output_type": "stream",
     "text": [
      "score f1 0.9958709677419355\n"
     ]
    }
   ],
   "source": [
    "# On importe une fonction qui calcule le f1_score (le rapport entre la précision et le rappel)\n",
    "from sklearn.metrics import f1_score\n",
    "# On calcule le f1_score pour toutes les prédictions effectuées\n",
    "score = f1_score(\n",
    "    Y_test[0],\n",
    "    Y_predicted,\n",
    "    average=\"micro\"\n",
    ")\n",
    "print(\"score f1\", score)"
   ]
  },
  {
   "cell_type": "markdown",
   "metadata": {},
   "source": [
    "On obtient un score f1 de 0.9958 sur les données d'entrainement (soit 99.58% de réussite à la classification), on est donc plutôt pas mal"
   ]
  },
  {
   "cell_type": "code",
   "execution_count": 44,
   "metadata": {},
   "outputs": [
    {
     "name": "stdout",
     "output_type": "stream",
     "text": [
      "score f1 0.9974557522123894\n"
     ]
    }
   ],
   "source": [
    "# Maintenant on va tester la même chose sur les données qui sont réellement à évaluer (les données de test)\n",
    "Y_predicted = pipeline.predict(X_train[0])\n",
    "# Calcul du score f1\n",
    "score = f1_score(\n",
    "    Y_train[0],\n",
    "    Y_predicted,\n",
    "    average=\"micro\"\n",
    ")\n",
    "print(\"score f1\", score)"
   ]
  },
  {
   "cell_type": "markdown",
   "metadata": {},
   "source": [
    "On obtient un score f1 de 0.9974 sur les données de test (soit 99.74% de réussite à la classification), c'est un peu mieux que sur les données d'entrainement, donc à priori on est bien"
   ]
  },
  {
   "cell_type": "code",
   "execution_count": null,
   "metadata": {},
   "outputs": [],
   "source": []
  }
 ],
 "metadata": {
  "kernelspec": {
   "display_name": "Python 3",
   "language": "python",
   "name": "python3"
  },
  "language_info": {
   "codemirror_mode": {
    "name": "ipython",
    "version": 3
   },
   "file_extension": ".py",
   "mimetype": "text/x-python",
   "name": "python",
   "nbconvert_exporter": "python",
   "pygments_lexer": "ipython3",
   "version": "3.7.1"
  }
 },
 "nbformat": 4,
 "nbformat_minor": 2
}
