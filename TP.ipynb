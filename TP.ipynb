{
 "cells": [
  {
   "cell_type": "markdown",
   "metadata": {},
   "source": [
    "# Initiation au Machine Learning"
   ]
  },
  {
   "cell_type": "code",
   "execution_count": 1,
   "metadata": {},
   "outputs": [],
   "source": [
    "import pandas as pd"
   ]
  },
  {
   "cell_type": "markdown",
   "metadata": {},
   "source": [
    "## Importation des données"
   ]
  },
  {
   "cell_type": "code",
   "execution_count": 6,
   "metadata": {},
   "outputs": [],
   "source": [
    "# Vecteur qui contiendra toutes les entrées issues de Wikipédia\n",
    "X = []\n",
    "# Vecteur qui contiendra la langue de sortie des entrées correspondantes\n",
    "Y = []\n",
    "\n",
    "# On va importer les données (contenues dans des fichiers textes)\n",
    "with open(\"data1.txt\", encoding=\"utf-8\") as f1, open(\"data2.txt\", encoding=\"utf-8\") as f2, open(\"data3.txt\", encoding=\"utf-8\") as f3:\n",
    "    for line in f1:\n",
    "        y = line[0]\n",
    "        x = line[2:]\n",
    "        X.append(x)\n",
    "        Y.append(y)\n",
    "    for line in f2:\n",
    "        y = line[0]\n",
    "        x = line[2:]\n",
    "        X.append(x)\n",
    "        Y.append(y)\n",
    "    for line in f3:\n",
    "        y = line[0]\n",
    "        x = line[2:]\n",
    "        X.append(x)\n",
    "        Y.append(y)\n",
    "        \n",
    "X = pd.DataFrame(X)\n",
    "Y = pd.DataFrame(Y)"
   ]
  },
  {
   "cell_type": "code",
   "execution_count": null,
   "metadata": {},
   "outputs": [],
   "source": []
  }
 ],
 "metadata": {
  "kernelspec": {
   "display_name": "Python 3",
   "language": "python",
   "name": "python3"
  },
  "language_info": {
   "codemirror_mode": {
    "name": "ipython",
    "version": 3
   },
   "file_extension": ".py",
   "mimetype": "text/x-python",
   "name": "python",
   "nbconvert_exporter": "python",
   "pygments_lexer": "ipython3",
   "version": "3.7.1"
  }
 },
 "nbformat": 4,
 "nbformat_minor": 2
}
