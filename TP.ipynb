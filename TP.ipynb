{
 "cells": [
  {
   "cell_type": "markdown",
   "metadata": {},
   "source": [
    "# Initiation au Machine Learning"
   ]
  },
  {
   "cell_type": "code",
   "execution_count": 1,
   "metadata": {},
   "outputs": [],
   "source": [
    "import pandas as pd"
   ]
  },
  {
   "cell_type": "markdown",
   "metadata": {},
   "source": [
    "## Importation des données"
   ]
  },
  {
   "cell_type": "code",
   "execution_count": 6,
   "metadata": {},
   "outputs": [],
   "source": [
    "# Vecteur qui contiendra toutes les entrées issues de Wikipédia\n",
    "X = []\n",
    "# Vecteur qui contiendra la langue de sortie des entrées correspondantes\n",
    "Y = []\n",
    "\n",
    "# On va importer les données (contenues dans des fichiers textes)\n",
    "with open(\"data1.txt\", encoding=\"utf-8\") as f1, open(\"data2.txt\", encoding=\"utf-8\") as f2, open(\"data3.txt\", encoding=\"utf-8\") as f3:\n",
    "    for line in f1:\n",
    "        y = line[0]\n",
    "        x = line[2:]\n",
    "        X.append(x)\n",
    "        Y.append(y)\n",
    "    for line in f2:\n",
    "        y = line[0]\n",
    "        x = line[2:]\n",
    "        X.append(x)\n",
    "        Y.append(y)\n",
    "    for line in f3:\n",
    "        y = line[0]\n",
    "        x = line[2:]\n",
    "        X.append(x)\n",
    "        Y.append(y)\n",
    "        \n",
    "X = pd.DataFrame(X)\n",
    "Y = pd.DataFrame(Y)"
   ]
  },
  {
   "cell_type": "markdown",
   "metadata": {},
   "source": [
    "## Vectoriser les entrées\n",
    "Le but est de passer d'un texte d'une longueur arbitraire à un vecteur à n_dimensions N_features"
   ]
  },
  {
   "cell_type": "code",
   "execution_count": 9,
   "metadata": {},
   "outputs": [],
   "source": [
    "from sklearn.feature_extraction.text import CountVectorizer"
   ]
  },
  {
   "cell_type": "code",
   "execution_count": 11,
   "metadata": {},
   "outputs": [],
   "source": [
    "vectorizer = CountVectorizer(\n",
    "    input=\"content\",\n",
    "    analyzer=\"word\",\n",
    "    strip_accents=None,\n",
    "    stop_words=None,\n",
    "    binary=True,\n",
    "    ngram_range=(1,2)\n",
    ")"
   ]
  },
  {
   "cell_type": "code",
   "execution_count": 12,
   "metadata": {},
   "outputs": [
    {
     "data": {
      "text/plain": [
       "['salut', 'le', 'monde', 'ça', 'va']"
      ]
     },
     "execution_count": 12,
     "metadata": {},
     "output_type": "execute_result"
    }
   ],
   "source": [
    "tokenizer = vectorizer.build_tokenizer()\n",
    "tokenizer(\"salut le monde, ça va ?\")"
   ]
  },
  {
   "cell_type": "code",
   "execution_count": 13,
   "metadata": {},
   "outputs": [
    {
     "data": {
      "text/plain": [
       "['salut',\n",
       " 'le',\n",
       " 'monde',\n",
       " 'ça',\n",
       " 'va',\n",
       " 'salut le',\n",
       " 'le monde',\n",
       " 'monde ça',\n",
       " 'ça va']"
      ]
     },
     "execution_count": 13,
     "metadata": {},
     "output_type": "execute_result"
    }
   ],
   "source": [
    "analyzer = vectorizer.build_analyzer()\n",
    "analyzer(\"salut le monde, ça va ?\")"
   ]
  },
  {
   "cell_type": "code",
   "execution_count": 14,
   "metadata": {},
   "outputs": [],
   "source": [
    "from sklearn.model_selection import train_test_split"
   ]
  },
  {
   "cell_type": "code",
   "execution_count": 15,
   "metadata": {},
   "outputs": [
    {
     "name": "stderr",
     "output_type": "stream",
     "text": [
      "C:\\Users\\Xepyon\\Anaconda3\\lib\\site-packages\\sklearn\\model_selection\\_split.py:2179: FutureWarning: From version 0.21, test_size will always complement train_size unless both are specified.\n",
      "  FutureWarning)\n"
     ]
    }
   ],
   "source": [
    "X_train, X_test, Y_train, Y_test = train_test_split(\n",
    "    X,\n",
    "    Y,\n",
    "    train_size=0.7\n",
    ")"
   ]
  },
  {
   "cell_type": "code",
   "execution_count": 16,
   "metadata": {},
   "outputs": [
    {
     "name": "stdout",
     "output_type": "stream",
     "text": [
      "<class 'pandas.core.frame.DataFrame'>\n",
      "Int64Index: 9040 entries, 116 to 10931\n",
      "Data columns (total 1 columns):\n",
      "0    9040 non-null object\n",
      "dtypes: object(1)\n",
      "memory usage: 141.2+ KB\n"
     ]
    }
   ],
   "source": [
    "X_train.info()"
   ]
  },
  {
   "cell_type": "code",
   "execution_count": 17,
   "metadata": {},
   "outputs": [
    {
     "name": "stdout",
     "output_type": "stream",
     "text": [
      "<class 'pandas.core.frame.DataFrame'>\n",
      "Int64Index: 3875 entries, 4714 to 4136\n",
      "Data columns (total 1 columns):\n",
      "0    3875 non-null object\n",
      "dtypes: object(1)\n",
      "memory usage: 60.5+ KB\n"
     ]
    }
   ],
   "source": [
    "X_test.info()"
   ]
  },
  {
   "cell_type": "code",
   "execution_count": 20,
   "metadata": {},
   "outputs": [],
   "source": [
    "from sklearn.pipeline import Pipeline\n",
    "from sklearn.naive_bayes import MultinomialNB"
   ]
  },
  {
   "cell_type": "code",
   "execution_count": 22,
   "metadata": {},
   "outputs": [],
   "source": [
    "# On crée un pipeline de traitement\n",
    "# on vectorise les données textuelles\n",
    "# on classifie\n",
    "classifier = MultinomialNB()\n",
    "pipeline = Pipeline(\n",
    "    [\n",
    "        (\"vectorizer\", vectorizer),\n",
    "        (\"classifier\", classifier)\n",
    "    ]\n",
    ")"
   ]
  },
  {
   "cell_type": "code",
   "execution_count": null,
   "metadata": {},
   "outputs": [],
   "source": []
  }
 ],
 "metadata": {
  "kernelspec": {
   "display_name": "Python 3",
   "language": "python",
   "name": "python3"
  },
  "language_info": {
   "codemirror_mode": {
    "name": "ipython",
    "version": 3
   },
   "file_extension": ".py",
   "mimetype": "text/x-python",
   "name": "python",
   "nbconvert_exporter": "python",
   "pygments_lexer": "ipython3",
   "version": "3.7.1"
  }
 },
 "nbformat": 4,
 "nbformat_minor": 2
}
